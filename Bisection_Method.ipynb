{
 "cells": [
  {
   "cell_type": "markdown",
   "id": "3223f804-6be3-4ad8-a61f-0f742ad92661",
   "metadata": {},
   "source": [
    "# Bisection Method"
   ]
  },
  {
   "cell_type": "markdown",
   "id": "9a39836b-3346-42e3-97ab-60c32c4b42d6",
   "metadata": {},
   "source": [
    "<strong>Implement the Bisection Method to approximate the root of the equationx x<sup>2</sup> = sinx by taking the initial\n",
    "guesses a = 0.5 and b = 1.0. </strong>"
   ]
  },
  {
   "cell_type": "markdown",
   "id": "91a60862-5e09-4127-a485-a5799b8e93b8",
   "metadata": {},
   "source": [
    "Note: Prettytable has been used in this program. It can be totally skipped by creating a list that looks like a table. "
   ]
  },
  {
   "cell_type": "code",
   "execution_count": 50,
   "id": "ae9c3d2e-555d-40b6-88b6-cb5f227746a5",
   "metadata": {},
   "outputs": [
    {
     "name": "stdout",
     "output_type": "stream",
     "text": [
      "Collecting prettytable\n",
      "  Downloading prettytable-3.7.0-py3-none-any.whl (27 kB)\n",
      "Requirement already satisfied: wcwidth in c:\\users\\asus\\anaconda3\\lib\\site-packages (from prettytable) (0.2.5)\n",
      "Installing collected packages: prettytable\n",
      "Successfully installed prettytable-3.7.0\n",
      "Note: you may need to restart the kernel to use updated packages.\n"
     ]
    }
   ],
   "source": [
    "pip install prettytable"
   ]
  },
  {
   "cell_type": "code",
   "execution_count": 55,
   "id": "b1e6f0b2-ea43-46eb-8609-ef25e9a83b32",
   "metadata": {},
   "outputs": [
    {
     "name": "stdout",
     "output_type": "stream",
     "text": [
      "Roots are possible.\n",
      "+------------+----------------+-------------------------+\n",
      "| Iterations |       x0       |          f(x0)          |\n",
      "+------------+----------------+-------------------------+\n",
      "|     1      |      0.75      |   -0.11913876002333412  |\n",
      "|     2      |     0.875      |  -0.0019185022360270754 |\n",
      "|     3      |     0.9375     |   0.07282514173930699   |\n",
      "|     4      |    0.90625     |   0.03409241516805106   |\n",
      "|     5      |    0.890625    |   0.015747912378999196  |\n",
      "|     6      |   0.8828125    |   0.00683009435717552   |\n",
      "|     7      |   0.87890625   |   0.00243466232831413   |\n",
      "|     8      |  0.876953125   |  0.00025279899118890725 |\n",
      "|     9      |  0.8759765625  |  -0.0008341715882815848 |\n",
      "|     10     | 0.87646484375  | -0.00029101632727379645 |\n",
      "|     11     | 0.876708984375 | -1.9191179879696207e-05 |\n",
      "+------------+----------------+-------------------------+\n",
      "The root is 0.87670898\n"
     ]
    }
   ],
   "source": [
    "from math import *\n",
    "from prettytable import PrettyTable \n",
    "\n",
    "\n",
    "def func(x):\n",
    "    return (x**2 - sin(x))\n",
    "\n",
    "a = 0.5\n",
    "b = 1.0\n",
    "eps = 0.0001\n",
    "if(func(a)*func(b)) < 0:\n",
    "    print(\"Roots are possible.\")\n",
    "    condition = True\n",
    "    count = 1\n",
    "    table = PrettyTable(['Iterations', 'x0', 'f(x0)'])\n",
    "    # print(\"Iteration \\t x0 \\t f(x0)\")\n",
    "    while condition:\n",
    "        x0 = (a+b)/2\n",
    "        table.add_row([count, x0, func(x0)])\n",
    "        #print(\"%d \\t %0.6f \\t %0.6f\"%(count, x0, func(x0)))\n",
    "        if(func(a)*func(x0)) < 0 :\n",
    "        #root lies between a and x0\n",
    "            b = x0\n",
    "        elif (func(a)*func(x0)) > 0:\n",
    "        #root lies between x0 and b\n",
    "            a = x0\n",
    "        else:\n",
    "            print(\"The root is:\", x0) \n",
    "        count = count + 1\n",
    "        condition = abs(func(x0)) > eps\n",
    "else:cd \n",
    "    print(\"Roots do not lie between the initially guessed points.\")\n",
    "print(table)\n",
    "print(\"The root is %0.8f\" %x0)\n",
    "\n",
    "    \n",
    "\n",
    "\n",
    "\n",
    "\n"
   ]
  },
  {
   "cell_type": "code",
   "execution_count": 19,
   "id": "1659c61d-e2f7-47d1-aa58-4d4a158f832b",
   "metadata": {},
   "outputs": [
    {
     "data": {
      "text/plain": [
       "11"
      ]
     },
     "execution_count": 19,
     "metadata": {},
     "output_type": "execute_result"
    }
   ],
   "source": []
  }
 ],
 "metadata": {
  "kernelspec": {
   "display_name": "Python 3 (ipykernel)",
   "language": "python",
   "name": "python3"
  },
  "language_info": {
   "codemirror_mode": {
    "name": "ipython",
    "version": 3
   },
   "file_extension": ".py",
   "mimetype": "text/x-python",
   "name": "python",
   "nbconvert_exporter": "python",
   "pygments_lexer": "ipython3",
   "version": "3.9.13"
  }
 },
 "nbformat": 4,
 "nbformat_minor": 5
}
