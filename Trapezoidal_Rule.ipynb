{
 "cells": [
  {
   "cell_type": "code",
   "execution_count": 6,
   "id": "6ee490a4-1ce6-41eb-ac38-7da797d96252",
   "metadata": {},
   "outputs": [],
   "source": [
    "from math import *\n",
    "a = 0\n",
    "b = pi\n",
    "n = 20\n",
    "dist = (b - a) / 20\n",
    "h = round(dist, 1)\n",
    "def f(x):\n",
    "    return (sin(x)/e(x))\n",
    "area1 = f(a)\n",
    "for i in range (1, n):\n",
    "    "
   ]
  }
 ],
 "metadata": {
  "kernelspec": {
   "display_name": "Python 3 (ipykernel)",
   "language": "python",
   "name": "python3"
  },
  "language_info": {
   "codemirror_mode": {
    "name": "ipython",
    "version": 3
   },
   "file_extension": ".py",
   "mimetype": "text/x-python",
   "name": "python",
   "nbconvert_exporter": "python",
   "pygments_lexer": "ipython3",
   "version": "3.9.13"
  }
 },
 "nbformat": 4,
 "nbformat_minor": 5
}
