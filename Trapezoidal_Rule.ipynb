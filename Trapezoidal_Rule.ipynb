{
 "cells": [
  {
   "cell_type": "code",
   "execution_count": 24,
   "id": "6ee490a4-1ce6-41eb-ac38-7da797d96252",
   "metadata": {},
   "outputs": [
    {
     "name": "stdout",
     "output_type": "stream",
     "text": [
      "Solution is:0.5195\n"
     ]
    }
   ],
   "source": [
    "import numpy as np\n",
    "from math import *\n",
    "def f(x):\n",
    "    return (sin(x)/exp(x))\n",
    "first = 0\n",
    "last = pi\n",
    "h = (last - first) / 20\n",
    "x = np.linspace(first, last, 21)\n",
    "I = 0\n",
    "for i in range (len(x)):\n",
    "    if x[i] < last or x[i] > first:\n",
    "        I += (h/2)*2*f(x[i])\n",
    "    else:\n",
    "        I += (h/2)*f(x[i])\n",
    "        \n",
    "print(\"Solution is:%.4f\" %I)\n",
    "        \n",
    "\n"
   ]
  }
 ],
 "metadata": {
  "kernelspec": {
   "display_name": "Python 3 (ipykernel)",
   "language": "python",
   "name": "python3"
  },
  "language_info": {
   "codemirror_mode": {
    "name": "ipython",
    "version": 3
   },
   "file_extension": ".py",
   "mimetype": "text/x-python",
   "name": "python",
   "nbconvert_exporter": "python",
   "pygments_lexer": "ipython3",
   "version": "3.9.13"
  }
 },
 "nbformat": 4,
 "nbformat_minor": 5
}
