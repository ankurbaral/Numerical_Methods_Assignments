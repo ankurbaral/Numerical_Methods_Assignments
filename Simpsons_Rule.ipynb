{
 "cells": [
  {
   "cell_type": "code",
   "execution_count": 10,
   "id": "c3ca1be4-d16b-4acc-85eb-cdbfc02809af",
   "metadata": {},
   "outputs": [
    {
     "data": {
      "text/plain": [
       "0.999936608150076"
      ]
     },
     "execution_count": 10,
     "metadata": {},
     "output_type": "execute_result"
    }
   ],
   "source": [
    "import numpy as np\n",
    "from math import *\n",
    "\n",
    "def f(x):\n",
    "    return (exp(-(x**2)/2))\n",
    "first = -4\n",
    "last = 4\n",
    "divisions = 50\n",
    "h = (last - first)/divisions\n",
    "x = np.linspace(first, last, divisions+1)\n",
    "I = 0\n",
    "for i in range(len(x)):\n",
    "    if i % 2 == 0 and (x[i] > first and x[i] < last):\n",
    "        I += (h/3)*2*(f(x[i]))\n",
    "    elif i % 2 != 0 and (x[i] > first and x[i] < last):\n",
    "        I += (h/3)*4*(f(x[i]))\n",
    "    else:\n",
    "        I += (h/3)*(f(x[i]))\n",
    "I *= sqrt(1/(2*pi))\n",
    "I"
   ]
  },
  {
   "cell_type": "code",
   "execution_count": null,
   "id": "d38754a9-0998-4110-a970-76b717b886cb",
   "metadata": {},
   "outputs": [],
   "source": []
  }
 ],
 "metadata": {
  "kernelspec": {
   "display_name": "Python 3 (ipykernel)",
   "language": "python",
   "name": "python3"
  },
  "language_info": {
   "codemirror_mode": {
    "name": "ipython",
    "version": 3
   },
   "file_extension": ".py",
   "mimetype": "text/x-python",
   "name": "python",
   "nbconvert_exporter": "python",
   "pygments_lexer": "ipython3",
   "version": "3.9.13"
  }
 },
 "nbformat": 4,
 "nbformat_minor": 5
}
