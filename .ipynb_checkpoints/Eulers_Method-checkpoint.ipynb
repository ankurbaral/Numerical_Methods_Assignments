{
 "cells": [
  {
   "cell_type": "markdown",
   "id": "6dd94ef6-6f4d-439d-9ba4-0c8ec4f38931",
   "metadata": {},
   "source": [
    "# Euler's Method"
   ]
  },
  {
   "cell_type": "code",
   "execution_count": 32,
   "id": "aae83392-9de2-4bae-8e27-7bf7518ac302",
   "metadata": {},
   "outputs": [
    {
     "name": "stdout",
     "output_type": "stream",
     "text": [
      "The solution is:5.37000\n",
      "+-----+-------+\n",
      "|  X  |   Y   |\n",
      "+-----+-------+\n",
      "| 0.1 |  1.0  |\n",
      "| 0.2 | 1.011 |\n",
      "| 0.3 | 1.035 |\n",
      "| 0.4 | 1.074 |\n",
      "| 0.5 |  1.13 |\n",
      "| 0.6 | 1.205 |\n",
      "| 0.7 | 1.301 |\n",
      "| 0.8 |  1.42 |\n",
      "| 0.9 | 1.564 |\n",
      "| 1.0 | 1.735 |\n",
      "| 1.1 | 1.935 |\n",
      "| 1.2 | 2.166 |\n",
      "| 1.3 |  2.43 |\n",
      "| 1.4 | 2.729 |\n",
      "| 1.5 | 3.065 |\n",
      "| 1.6 |  3.44 |\n",
      "| 1.7 | 3.856 |\n",
      "| 1.8 | 4.315 |\n",
      "| 1.9 | 4.819 |\n",
      "| 2.0 |  5.37 |\n",
      "+-----+-------+\n"
     ]
    }
   ],
   "source": [
    "from prettytable import PrettyTable\n",
    "def f(x, y):\n",
    "    return (x**2 + x)\n",
    "a = 0\n",
    "b = 2\n",
    "n = 20\n",
    "h = (b-a)/n\n",
    "# h = round(h,2)\n",
    "y0 = 1\n",
    "x0 = 0\n",
    "table = PrettyTable([\"X\", \"Y\"])\n",
    "for i in range (n):\n",
    "    y1 = y0 + (h* f(x0, y0))\n",
    "    y0 = y1\n",
    "    x0 = x0 + h\n",
    "    table.add_row([round(x0,3), round(y0,3)])\n",
    "print(\"The solution is:%.5f\" %y_next)\n",
    "print(table)"
   ]
  }
 ],
 "metadata": {
  "kernelspec": {
   "display_name": "Python 3 (ipykernel)",
   "language": "python",
   "name": "python3"
  },
  "language_info": {
   "codemirror_mode": {
    "name": "ipython",
    "version": 3
   },
   "file_extension": ".py",
   "mimetype": "text/x-python",
   "name": "python",
   "nbconvert_exporter": "python",
   "pygments_lexer": "ipython3",
   "version": "3.9.13"
  }
 },
 "nbformat": 4,
 "nbformat_minor": 5
}
