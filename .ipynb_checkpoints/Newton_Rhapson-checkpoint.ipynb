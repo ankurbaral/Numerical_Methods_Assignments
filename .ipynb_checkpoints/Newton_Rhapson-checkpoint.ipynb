{
 "cells": [
  {
   "cell_type": "markdown",
   "id": "c600aba9-fb7c-40fb-9759-55a3570c34cd",
   "metadata": {},
   "source": [
    "# NEWTON RHAPSON METHOD"
   ]
  },
  {
   "cell_type": "markdown",
   "id": "e57b1c6d-aa1e-45d5-aed1-b2248b3a6595",
   "metadata": {},
   "source": [
    "<strong>Implement the Newton-Raphson’s Method to approximate the root of the equation 𝑒<sup>𝑥</sup> = 4𝑥 by taking \n",
    "the initial guess 𝑥0 = 1.0</strong>"
   ]
  },
  {
   "cell_type": "code",
   "execution_count": 31,
   "id": "21df2b78-7405-4fc1-ac23-d690bbac7abd",
   "metadata": {},
   "outputs": [
    {
     "name": "stdout",
     "output_type": "stream",
     "text": [
      "+------------+---------------------+\n",
      "| Iterations |          x1         |\n",
      "+------------+---------------------+\n",
      "|     0      |         0.0         |\n",
      "|     1      |  0.3333333333333333 |\n",
      "|     2      | 0.35724647604398185 |\n",
      "|     3      |  0.3574029493733072 |\n",
      "|     4      |  0.3574029561813889 |\n",
      "+------------+---------------------+\n",
      "The root is:0.35740296\n"
     ]
    }
   ],
   "source": [
    "from math import *\n",
    "from prettytable import PrettyTable\n",
    "\n",
    "def func(x):\n",
    "    return ((e**x) - 4*x )\n",
    "def dfunc(x):\n",
    "    return ((e**x) - 4 )\n",
    "x0 = 1\n",
    "eps = 0.0001\n",
    "count = 0\n",
    "condition = True\n",
    "table = PrettyTable([\"Iterations\", \"x1\"])\n",
    "while condition:\n",
    "    if (dfunc(x0) != 0):\n",
    "        x1 = x0 - (func(x0) / dfunc(x0))\n",
    "        table.add_row([count, x1])\n",
    "        condition = (abs(x1-x0) > eps)\n",
    "        x0 = x1\n",
    "        count+=1\n",
    "    else:\n",
    "        print(\"Cannot be solved by Newton Rhapson Method.\")\n",
    "print(table)\n",
    "print(\"The root is:%.8f\"% x0)        \n",
    "\n",
    "\n",
    "    \n"
   ]
  }
 ],
 "metadata": {
  "kernelspec": {
   "display_name": "Python 3 (ipykernel)",
   "language": "python",
   "name": "python3"
  },
  "language_info": {
   "codemirror_mode": {
    "name": "ipython",
    "version": 3
   },
   "file_extension": ".py",
   "mimetype": "text/x-python",
   "name": "python",
   "nbconvert_exporter": "python",
   "pygments_lexer": "ipython3",
   "version": "3.9.13"
  }
 },
 "nbformat": 4,
 "nbformat_minor": 5
}
