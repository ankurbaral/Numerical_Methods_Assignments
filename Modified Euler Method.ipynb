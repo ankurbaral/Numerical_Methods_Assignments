{
 "cells": [
  {
   "cell_type": "code",
   "execution_count": 22,
   "id": "ea5d41d2-d8dc-4802-aac1-9e6f8cd024b1",
   "metadata": {},
   "outputs": [
    {
     "name": "stdout",
     "output_type": "stream",
     "text": [
      "The solution is:5.6800\n",
      "+-----+--------------------+\n",
      "|  X  |         Y          |\n",
      "+-----+--------------------+\n",
      "|  0  |         1          |\n",
      "| 0.2 |       1.024        |\n",
      "| 0.4 |       1.104        |\n",
      "| 0.6 | 1.2560000000000002 |\n",
      "| 0.8 | 1.4960000000000002 |\n",
      "| 1.0 | 1.8400000000000003 |\n",
      "| 1.2 | 2.3040000000000003 |\n",
      "| 1.4 |       2.904        |\n",
      "| 1.6 | 3.6559999999999997 |\n",
      "| 1.8 |       4.576        |\n",
      "| 2.0 |        5.68        |\n",
      "+-----+--------------------+\n"
     ]
    }
   ],
   "source": [
    "from prettytable import PrettyTable\n",
    "def f(x,y):\n",
    "    return (x**2 + x)\n",
    "a = 0\n",
    "b = 2\n",
    "n = 10\n",
    "h = (b - a)/ n\n",
    "x0 = 0\n",
    "y0 = 1\n",
    "table = PrettyTable([\"X\", \"Y\"])\n",
    "table.add_row([x0, y0])\n",
    "for i in range (n):\n",
    "    k1 = h* f(x0, y0)\n",
    "    \n",
    "    k2 = h* f(x0+h, y0+k1)\n",
    "    \n",
    "    y1 = y0 + 0.5*(k1+k2)\n",
    "    \n",
    "    y0 = y1\n",
    "    x0 = x0 + h\n",
    "    table.add_row([round(x0,1), y0])\n",
    "print(\"The solution is:%.4f\" %y1)\n",
    "print(table)"
   ]
  }
 ],
 "metadata": {
  "kernelspec": {
   "display_name": "Python 3 (ipykernel)",
   "language": "python",
   "name": "python3"
  },
  "language_info": {
   "codemirror_mode": {
    "name": "ipython",
    "version": 3
   },
   "file_extension": ".py",
   "mimetype": "text/x-python",
   "name": "python",
   "nbconvert_exporter": "python",
   "pygments_lexer": "ipython3",
   "version": "3.9.13"
  }
 },
 "nbformat": 4,
 "nbformat_minor": 5
}
